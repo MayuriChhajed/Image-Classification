{
 "cells": [
  {
   "cell_type": "markdown",
   "metadata": {},
   "source": [
    "# Loading important libraries"
   ]
  },
  {
   "cell_type": "code",
   "execution_count": 5,
   "metadata": {},
   "outputs": [],
   "source": [
    "import keras \n",
    "from keras import layers\n",
    "from keras.layers import Input, Dense, Activation, ZeroPadding2D, BatchNormalization, Flatten, Conv2D\n",
    "from keras.layers import AveragePooling2D, MaxPooling2D, Dropout, GlobalMaxPooling2D, GlobalAveragePooling2D\n",
    "from keras.models import Model, Sequential\n",
    "import numpy as np \n",
    "import pandas as pd \n",
    "import matplotlib.pyplot as plt \n",
    "from sklearn.model_selection import train_test_split\n",
    "from tqdm import tqdm"
   ]
  },
  {
   "cell_type": "markdown",
   "metadata": {},
   "source": [
    "# Dataset"
   ]
  },
  {
   "cell_type": "code",
   "execution_count": 2,
   "metadata": {},
   "outputs": [
    {
     "name": "stderr",
     "output_type": "stream",
     "text": [
      "  0%|                                                                                        | 0/60000 [00:00<?, ?it/s]C:\\Users\\Lenovo\\anaconda3\\lib\\site-packages\\keras_preprocessing\\image\\utils.py:104: UserWarning: grayscale is deprecated. Please use color_mode = \"grayscale\"\n",
      "  warnings.warn('grayscale is deprecated. Please use '\n",
      "100%|███████████████████████████████████████████████████████████████████████████| 60000/60000 [05:29<00:00, 181.89it/s]\n"
     ]
    }
   ],
   "source": [
    "train = pd.read_csv('datasets/train.csv')\n",
    "train_image = []\n",
    "for i in tqdm(range(train.shape[0])):\n",
    "    img = image.load_img('datasets/train/'+train['id'][i].astype('str') + '.png', target_size=(28,28,1), grayscale=True)\n",
    "    img = image.img_to_array(img)\n",
    "    img = img/255\n",
    "    train_image.append(img)\n",
    "X = np.array(train_image)\n",
    "y = train['label'].values"
   ]
  },
  {
   "cell_type": "code",
   "execution_count": 3,
   "metadata": {},
   "outputs": [],
   "source": [
    "y = to_categorical(y)\n",
    "X_train, X_test, y_train, y_test = train_test_split(X, y , random_state = 42, test_size = 0.2)"
   ]
  },
  {
   "cell_type": "markdown",
   "metadata": {},
   "source": [
    "# CNN model"
   ]
  },
  {
   "cell_type": "code",
   "execution_count": 8,
   "metadata": {},
   "outputs": [
    {
     "name": "stdout",
     "output_type": "stream",
     "text": [
      "WARNING:tensorflow:From C:\\Users\\Lenovo\\anaconda3\\lib\\site-packages\\keras\\backend\\tensorflow_backend.py:4070: The name tf.nn.max_pool is deprecated. Please use tf.nn.max_pool2d instead.\n",
      "\n",
      "Model: \"sequential_2\"\n",
      "_________________________________________________________________\n",
      "Layer (type)                 Output Shape              Param #   \n",
      "=================================================================\n",
      "conv2d_1 (Conv2D)            (None, 28, 28, 64)        320       \n",
      "_________________________________________________________________\n",
      "max_pooling2d_1 (MaxPooling2 (None, 14, 14, 64)        0         \n",
      "_________________________________________________________________\n",
      "dropout_1 (Dropout)          (None, 14, 14, 64)        0         \n",
      "_________________________________________________________________\n",
      "conv2d_2 (Conv2D)            (None, 14, 14, 32)        8224      \n",
      "_________________________________________________________________\n",
      "max_pooling2d_2 (MaxPooling2 (None, 7, 7, 32)          0         \n",
      "_________________________________________________________________\n",
      "dropout_2 (Dropout)          (None, 7, 7, 32)          0         \n",
      "_________________________________________________________________\n",
      "flatten_1 (Flatten)          (None, 1568)              0         \n",
      "_________________________________________________________________\n",
      "dense_1 (Dense)              (None, 256)               401664    \n",
      "_________________________________________________________________\n",
      "dropout_3 (Dropout)          (None, 256)               0         \n",
      "_________________________________________________________________\n",
      "dense_2 (Dense)              (None, 10)                2570      \n",
      "=================================================================\n",
      "Total params: 412,778\n",
      "Trainable params: 412,778\n",
      "Non-trainable params: 0\n",
      "_________________________________________________________________\n"
     ]
    }
   ],
   "source": [
    "model = keras.Sequential()\n",
    "model.add(keras.layers.Conv2D(filters=64, kernel_size=2, padding='same', activation='relu', input_shape=(28,28,1))) \n",
    "model.add(keras.layers.MaxPooling2D(pool_size=2))\n",
    "model.add(keras.layers.Dropout(0.3))\n",
    "model.add(keras.layers.Conv2D(filters=32, kernel_size=2, padding='same', activation='relu'))\n",
    "model.add(keras.layers.MaxPooling2D(pool_size=2))\n",
    "model.add(keras.layers.Dropout(0.3))\n",
    "model.add(keras.layers.Flatten())\n",
    "model.add(keras.layers.Dense(256, activation='relu'))\n",
    "model.add(keras.layers.Dropout(0.5))\n",
    "model.add(keras.layers.Dense(10, activation='softmax'))\n",
    "model.summary()\n"
   ]
  },
  {
   "cell_type": "code",
   "execution_count": 9,
   "metadata": {},
   "outputs": [
    {
     "name": "stdout",
     "output_type": "stream",
     "text": [
      "WARNING:tensorflow:From C:\\Users\\Lenovo\\anaconda3\\lib\\site-packages\\keras\\backend\\tensorflow_backend.py:422: The name tf.global_variables is deprecated. Please use tf.compat.v1.global_variables instead.\n",
      "\n",
      "Train on 48000 samples, validate on 12000 samples\n",
      "Epoch 1/20\n",
      "48000/48000 [==============================] - 77s 2ms/step - loss: 0.5781 - accuracy: 0.7893 - val_loss: 0.3586 - val_accuracy: 0.8690\n",
      "Epoch 2/20\n",
      "48000/48000 [==============================] - 81s 2ms/step - loss: 0.4076 - accuracy: 0.8537 - val_loss: 0.3283 - val_accuracy: 0.8777\n",
      "Epoch 3/20\n",
      "48000/48000 [==============================] - 79s 2ms/step - loss: 0.3603 - accuracy: 0.8674 - val_loss: 0.2927 - val_accuracy: 0.8923\n",
      "Epoch 4/20\n",
      "48000/48000 [==============================] - 77s 2ms/step - loss: 0.3343 - accuracy: 0.8771 - val_loss: 0.2667 - val_accuracy: 0.9013\n",
      "Epoch 5/20\n",
      "48000/48000 [==============================] - 80s 2ms/step - loss: 0.3139 - accuracy: 0.8843 - val_loss: 0.2701 - val_accuracy: 0.8997\n",
      "Epoch 6/20\n",
      "48000/48000 [==============================] - 78s 2ms/step - loss: 0.2999 - accuracy: 0.8890 - val_loss: 0.2471 - val_accuracy: 0.9104\n",
      "Epoch 7/20\n",
      "48000/48000 [==============================] - 79s 2ms/step - loss: 0.2898 - accuracy: 0.8918 - val_loss: 0.2428 - val_accuracy: 0.9106\n",
      "Epoch 8/20\n",
      "48000/48000 [==============================] - 81s 2ms/step - loss: 0.2813 - accuracy: 0.8955 - val_loss: 0.2402 - val_accuracy: 0.9111\n",
      "Epoch 9/20\n",
      "48000/48000 [==============================] - 84s 2ms/step - loss: 0.2679 - accuracy: 0.9008 - val_loss: 0.2296 - val_accuracy: 0.9165\n",
      "Epoch 10/20\n",
      "48000/48000 [==============================] - 87s 2ms/step - loss: 0.2639 - accuracy: 0.9023 - val_loss: 0.2403 - val_accuracy: 0.9133\n",
      "Epoch 11/20\n",
      "48000/48000 [==============================] - 86s 2ms/step - loss: 0.2542 - accuracy: 0.9081 - val_loss: 0.2280 - val_accuracy: 0.9154\n",
      "Epoch 12/20\n",
      "48000/48000 [==============================] - 85s 2ms/step - loss: 0.2524 - accuracy: 0.9061 - val_loss: 0.2269 - val_accuracy: 0.9138\n",
      "Epoch 13/20\n",
      "48000/48000 [==============================] - 89s 2ms/step - loss: 0.2466 - accuracy: 0.9091 - val_loss: 0.2347 - val_accuracy: 0.9140\n",
      "Epoch 14/20\n",
      "48000/48000 [==============================] - 83s 2ms/step - loss: 0.2427 - accuracy: 0.9094 - val_loss: 0.2338 - val_accuracy: 0.9158\n",
      "Epoch 15/20\n",
      "48000/48000 [==============================] - 80s 2ms/step - loss: 0.2391 - accuracy: 0.9107 - val_loss: 0.2275 - val_accuracy: 0.9193\n",
      "Epoch 16/20\n",
      "48000/48000 [==============================] - 86s 2ms/step - loss: 0.2312 - accuracy: 0.9133 - val_loss: 0.2220 - val_accuracy: 0.9198\n",
      "Epoch 17/20\n",
      "48000/48000 [==============================] - 82s 2ms/step - loss: 0.2327 - accuracy: 0.9119 - val_loss: 0.2175 - val_accuracy: 0.9202\n",
      "Epoch 18/20\n",
      "48000/48000 [==============================] - 85s 2ms/step - loss: 0.2257 - accuracy: 0.9163 - val_loss: 0.2137 - val_accuracy: 0.9241\n",
      "Epoch 19/20\n",
      "48000/48000 [==============================] - 83s 2ms/step - loss: 0.2231 - accuracy: 0.9178 - val_loss: 0.2143 - val_accuracy: 0.9233\n",
      "Epoch 20/20\n",
      "48000/48000 [==============================] - 81s 2ms/step - loss: 0.2210 - accuracy: 0.9169 - val_loss: 0.2287 - val_accuracy: 0.9166\n"
     ]
    },
    {
     "data": {
      "text/plain": [
       "<keras.callbacks.callbacks.History at 0x22d5e3e8648>"
      ]
     },
     "execution_count": 9,
     "metadata": {},
     "output_type": "execute_result"
    }
   ],
   "source": [
    "model.compile(loss='categorical_crossentropy',\n",
    "             optimizer='adam',\n",
    "             metrics=['accuracy'])\n",
    "model.fit(X_train, y_train, epochs =20, validation_data=(X_test, y_test))"
   ]
  },
  {
   "cell_type": "markdown",
   "metadata": {},
   "source": [
    "# Testing the model"
   ]
  },
  {
   "cell_type": "code",
   "execution_count": 10,
   "metadata": {},
   "outputs": [
    {
     "name": "stderr",
     "output_type": "stream",
     "text": [
      "  0%|                                                                                        | 0/10000 [00:00<?, ?it/s]C:\\Users\\Lenovo\\anaconda3\\lib\\site-packages\\keras_preprocessing\\image\\utils.py:104: UserWarning: grayscale is deprecated. Please use color_mode = \"grayscale\"\n",
      "  warnings.warn('grayscale is deprecated. Please use '\n",
      "100%|███████████████████████████████████████████████████████████████████████████| 10000/10000 [00:42<00:00, 237.91it/s]\n"
     ]
    }
   ],
   "source": [
    "test = pd.read_csv('datasets/test.csv')\n",
    "test_image = []\n",
    "for i in tqdm(range(test.shape[0])):\n",
    "    img = image.load_img('datasets/test/'+test['id'][i].astype('str')+'.png', target_size=(28,28,1), grayscale=True)\n",
    "    img = image.img_to_array(img)\n",
    "    img = img/255\n",
    "    test_image.append(img)\n",
    "test = np.array(test_image)"
   ]
  },
  {
   "cell_type": "code",
   "execution_count": 11,
   "metadata": {},
   "outputs": [
    {
     "name": "stdout",
     "output_type": "stream",
     "text": [
      "[9 2 1 ... 8 1 5]\n"
     ]
    }
   ],
   "source": [
    "predictions = model.predict_classes(test)\n",
    "print(predictions)\n",
    "model.save('model.h5')\n",
    "sample = pd.read_csv('sample.csv')\n",
    "sample['label'] = predictions\n",
    "sample.to_csv('output.csv', header=True, index=False)"
   ]
  }
 ],
 "metadata": {
  "kernelspec": {
   "display_name": "Python 3",
   "language": "python",
   "name": "python3"
  },
  "language_info": {
   "codemirror_mode": {
    "name": "ipython",
    "version": 3
   },
   "file_extension": ".py",
   "mimetype": "text/x-python",
   "name": "python",
   "nbconvert_exporter": "python",
   "pygments_lexer": "ipython3",
   "version": "3.7.6"
  }
 },
 "nbformat": 4,
 "nbformat_minor": 4
}
